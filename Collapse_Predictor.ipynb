{
  "nbformat": 4,
  "nbformat_minor": 0,
  "metadata": {
    "colab": {
      "provenance": [],
      "authorship_tag": "ABX9TyM56q7q9/JhZMWx9UjI3iJ6",
      "include_colab_link": true
    },
    "kernelspec": {
      "name": "python3",
      "display_name": "Python 3"
    },
    "language_info": {
      "name": "python"
    }
  },
  "cells": [
    {
      "cell_type": "markdown",
      "metadata": {
        "id": "view-in-github",
        "colab_type": "text"
      },
      "source": [
        "<a href=\"https://colab.research.google.com/github/hamidi311/population-collapse-Portfolio/blob/main/Collapse_Predictor.ipynb\" target=\"_parent\"><img src=\"https://colab.research.google.com/assets/colab-badge.svg\" alt=\"Open In Colab\"/></a>"
      ]
    },
    {
      "cell_type": "code",
      "execution_count": 8,
      "metadata": {
        "colab": {
          "base_uri": "https://localhost:8080/"
        },
        "id": "2YiJM1DgNlhL",
        "outputId": "4394ad6b-b824-48e0-ddc2-3f21f39089b9"
      },
      "outputs": [
        {
          "output_type": "stream",
          "name": "stdout",
          "text": [
            "Evaluation Report:\n",
            "              precision    recall  f1-score   support\n",
            "\n",
            "  Collapsing       1.00      1.00      1.00       134\n",
            "     Growing       1.00      1.00      1.00       351\n",
            "        Risk       1.00      1.00      1.00       187\n",
            "\n",
            "    accuracy                           1.00       672\n",
            "   macro avg       1.00      1.00      1.00       672\n",
            "weighted avg       1.00      1.00      1.00       672\n",
            "\n",
            "Example Prediction:\n",
            "Risk\n",
            "\n",
            "📍 Population Collapse Risk Predictor\n",
            "Enter Country Name: japan\n",
            "Enter Fertility Rate: 3\n",
            "Enter Population Over 65 (%): 2\n",
            "\n",
            "🔍 Prediction for japan: Growing\n"
          ]
        }
      ],
      "source": [
        "\n",
        "import pandas as pd\n",
        "from sklearn.model_selection import train_test_split\n",
        "from sklearn.ensemble import RandomForestClassifier\n",
        "from sklearn.preprocessing import LabelEncoder\n",
        "from sklearn.metrics import classification_report\n",
        "\n",
        "# Load and prepare data\n",
        "import pandas as pd\n",
        "\n",
        "url = \"https://raw.githubusercontent.com/hamidi311/Population-Collapse-Analysis/main/predi_model_data.csv\"\n",
        "df = pd.read_csv(url)\n",
        "\n",
        "df = df[df['Year'] >= 2010]\n",
        "\n",
        "# Select key columns and drop missing values\n",
        "df = df[['Fertility Rate', 'Population Over 65', 'Birth Rate']].dropna().copy()\n",
        "\n",
        "# Define the label using custom logic\n",
        "def label_status(row):\n",
        "    if row['Fertility Rate'] < 2.1 and row['Population Over 65'] > 15:\n",
        "        return 'Collapsing'\n",
        "    elif row['Fertility Rate'] < 2.1 or row['Population Over 65'] > 15:\n",
        "        return 'Risk'\n",
        "    else:\n",
        "        return 'Growing'\n",
        "\n",
        "df['status'] = df.apply(label_status, axis=1)\n",
        "\n",
        "# Encode labels\n",
        "le = LabelEncoder()\n",
        "df['status_encoded'] = le.fit_transform(df['status'])\n",
        "\n",
        "# Features and labels\n",
        "X = df[['Fertility Rate', 'Population Over 65']]\n",
        "y = df['status_encoded']\n",
        "\n",
        "# Train/test split\n",
        "X_train, X_test, y_train, y_test = train_test_split(X, y, test_size=0.2, random_state=42)\n",
        "\n",
        "# Train model (Random Forest)\n",
        "model = RandomForestClassifier(random_state=42)\n",
        "model.fit(X_train, y_train)\n",
        "\n",
        "# Evaluate\n",
        "y_pred = model.predict(X_test)\n",
        "print(\"Evaluation Report:\")\n",
        "print(classification_report(y_test, y_pred, target_names=le.classes_))\n",
        "\n",
        "\n",
        "def predict_status(fertility_rate, pop_over_65):\n",
        "    input_df = pd.DataFrame([[fertility_rate, pop_over_65]],\n",
        "                            columns=['Fertility Rate', 'Population Over 65'])\n",
        "    prediction_encoded = model.predict(input_df)[0]\n",
        "    prediction_label = le.inverse_transform([prediction_encoded])[0]\n",
        "    return prediction_label\n",
        "\n",
        "# Example Test\n",
        "print(\"Example Prediction:\")\n",
        "print(predict_status(1.9, 14.0))  # Try different values here\n",
        "\n",
        "def interactive_prediction():\n",
        "    print(\"\\n📍 Population Collapse Risk Predictor\")\n",
        "\n",
        "    country = input(\"Enter Country Name: \")\n",
        "    fertility_rate = float(input(\"Enter Fertility Rate: \"))\n",
        "    pop_over_65 = float(input(\"Enter Population Over 65 (%): \"))\n",
        "\n",
        "    input_df = pd.DataFrame([[fertility_rate, pop_over_65]],\n",
        "                            columns=['Fertility Rate', 'Population Over 65'])\n",
        "\n",
        "    prediction_encoded = model.predict(input_df)[0]\n",
        "    prediction_label = le.inverse_transform([prediction_encoded])[0]\n",
        "\n",
        "    print(f\"\\n🔍 Prediction for {country}: {prediction_label}\")\n",
        "\n",
        "# Call the function\n",
        "interactive_prediction()\n",
        "\n"
      ]
    }
  ]
}